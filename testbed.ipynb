{
 "cells": [
  {
   "cell_type": "code",
   "execution_count": 99,
   "metadata": {},
   "outputs": [],
   "source": [
    "import os\n",
    "import numpy as np\n",
    "import pandas as pd\n",
    "from matplotlib import pyplot as plt\n",
    "\n",
    "objects = {\n",
    "    'ode_textbook': {'type': 'object', 'dimension': [8.5, 10.25, 1.25]},\n",
    "    'perl_cookbook': {'type': 'object', 'dimension': [7, 9.25, 1.5]},\n",
    "    'box1': {'type': 'box', 'dimension': [18, 13.75, 5], 'description': 'prafull sharma'},\n",
    "    'box2': {'type': 'box', 'dimension': [8.75, 12, 5.5], 'description': 'daniel xu'},\n",
    "    'oat_creamer': {'type': 'object', 'dimension': [8, 3, 3]},\n",
    "    'box3': {'type': 'box', 'dimension': [17.5, 13.5, 7.5], 'description': 'lays snack'},\n",
    "    'pillow': {'type': 'object', 'dimension': [14, 14, 3]},\n",
    "    'straws' : {'type': 'object', 'dimension': [10, 10, 3.5]},\n",
    "    'box4': {'type': 'box', 'dimension': [9.5, 12.25, 7], 'description': 'pz'},\n",
    "    'box5': {'type': 'box', 'dimension': [8.75, 11.75, 5.25], 'description': 'lance ying, 10/7'},\n",
    "    'box6': {'type': 'box', 'dimension': [8, 12, 10.5], 'description': 'marie mize'},\n",
    "    'box7': {'type': 'box', 'dimension': [14.25, 14.25, 5.25], 'description': 'rice crispy treats'},\n",
    "    'hack_water_bottle': {'type': 'object', 'dimension': [10, 3, 3]},\n",
    "    'main_street_cafe_mug': {'type': 'object', 'dimension': [10, 3.5, 3.5]},\n",
    "    'light_blue_mug': {'type': 'object', 'dimension': [4.5, 4, 4]},\n",
    "    'yoga_mat': {'type': 'object', 'dimension': [18, 4.5, 4.5]},\n",
    "    'laptop_with_box': {'type': 'object', 'dimension': [14, 10.25, 4]},\n",
    "}\n"
   ]
  },
  {
   "cell_type": "code",
   "execution_count": 86,
   "metadata": {},
   "outputs": [
    {
     "data": {
      "text/plain": [
       "1060.0"
      ]
     },
     "execution_count": 86,
     "metadata": {},
     "output_type": "execute_result"
    }
   ],
   "source": [
    "def get_volume(obj):\n",
    "    return obj.dimensions[0] * obj.dimensions[1] * obj.dimensions[2]\n",
    "\n",
    "def generate_object(obj):\n",
    "    return Object(obj, \"none\", objects[obj]['dimension'])\n",
    "\n",
    "get_volume(generate_object('laptop_with_box')) + get_volume(generate_object('yoga_mat'))\n",
    "\n"
   ]
  },
  {
   "cell_type": "code",
   "execution_count": 93,
   "metadata": {},
   "outputs": [
    {
     "data": {
      "text/plain": [
       "1237.5"
      ]
     },
     "execution_count": 93,
     "metadata": {},
     "output_type": "execute_result"
    }
   ],
   "source": [
    "get_volume(generate_object('box1')) "
   ]
  },
  {
   "cell_type": "code",
   "execution_count": 92,
   "metadata": {},
   "outputs": [
    {
     "data": {
      "text/plain": [
       "643.453125"
      ]
     },
     "execution_count": 92,
     "metadata": {},
     "output_type": "execute_result"
    }
   ],
   "source": [
    "get_volume(generate_object('box7')) "
   ]
  },
  {
   "cell_type": "code",
   "execution_count": 89,
   "metadata": {},
   "outputs": [
    {
     "data": {
      "text/plain": [
       "867"
      ]
     },
     "execution_count": 89,
     "metadata": {},
     "output_type": "execute_result"
    }
   ],
   "source": [
    "get_volume(generate_object('pillow')) "
   ]
  },
  {
   "cell_type": "code",
   "execution_count": 101,
   "metadata": {},
   "outputs": [
    {
     "name": "stdout",
     "output_type": "stream",
     "text": [
      "[1.0, 0.0]\n"
     ]
    }
   ],
   "source": [
    "class Object:\n",
    "    def __init__(self, name, material, dimensions):\n",
    "        self.name = name\n",
    "        self.dimensions = dimensions\n",
    "\n",
    "    def get_name(self):\n",
    "        return self.name\n",
    "\n",
    "    def get_dimensions(self):\n",
    "        return self.dimensions\n",
    "\n",
    "class InferenceModel:\n",
    "    def __init__(self, objects, boxes):\n",
    "        self.objects = objects\n",
    "        self.boxes = boxes\n",
    "        self.partitions = []\n",
    "        self.partition_weights = []\n",
    "        self.generate_partitions(objects, len(objects), len(boxes))\n",
    "\n",
    "        # print(self.partition_weights)\n",
    "\n",
    "\n",
    "    def generate_partitions(self, objects, n, k):\n",
    "        self.partKSubsets(objects, n, k)\n",
    "\n",
    "        unordered_partitions = self.partitions.copy()\n",
    "        self.partitions = []\n",
    "\n",
    "        for partition in unordered_partitions:\n",
    "            for perm in permutations(partition):\n",
    "                self.partitions.append(perm)\n",
    "\n",
    "        self.partition_weights = [1/len(self.partitions) for partition in self.partitions]\n",
    "\n",
    "    def check_dimension(self, partition, boxes):\n",
    "        for i in range(len(boxes)):\n",
    "\n",
    "            vol = 0\n",
    "            box = boxes[i]\n",
    "            box_vol = box.dimensions[0] * box.dimensions[1] * box.dimensions[2]\n",
    "\n",
    "            for obj in partition[i]:\n",
    "                if max(obj.dimensions) > max(box.dimensions) or min(obj.dimensions) > min(box.dimensions):\n",
    "                    return False\n",
    "                \n",
    "                vol += obj.dimensions[0] * obj.dimensions[1] * obj.dimensions[2]\n",
    "\n",
    "            if vol > box_vol:\n",
    "                return False\n",
    "        \n",
    "        return True\n",
    "\n",
    "    def PartitionSub(self, arr, i, N, K, nos, v):\n",
    "   \n",
    "        # If count of elements in K subsets \n",
    "        # are greater than or equal to N \n",
    "        if (i >= N):\n",
    "        \n",
    "            # If count of subsets \n",
    "            # formed is equal to K \n",
    "            if (nos == K):\n",
    "                self.partitions.append([i.copy() for i in v])\n",
    "            return\n",
    "        for j in range(K):\n",
    "        \n",
    "            # If any subset is occupied, \n",
    "            # then push the element \n",
    "            # in that first \n",
    "            if (len(v[j]) > 0):\n",
    "                v[j].append(arr[i]) \n",
    "    \n",
    "                # Recursively do the same \n",
    "                # for remaining elements \n",
    "                self.PartitionSub(arr, i + 1, N, K, nos, v)\n",
    "                \n",
    "                # Backtrack \n",
    "                v[j].remove(v[j][len(v[j]) - 1])\n",
    "\n",
    "            else:\n",
    "                v[j].append(arr[i]) \n",
    "                self.PartitionSub(arr, i + 1, N, K, nos + 1, v) \n",
    "                v[j].remove(v[j][len(v[j]) - 1]) \n",
    "    \n",
    "                break\n",
    "\n",
    "    def partKSubsets(self, arr, N, K):\n",
    "   \n",
    "        v = [[] for i in range(K)] \n",
    "        if (K == 0 or K > N):\n",
    "            print(\"Not Possible\", end = \"\") \n",
    "        else:\n",
    "            # print(\"The Subset Combinations are: \") \n",
    "            self.PartitionSub(arr, 0, N, K, 0, v)\n",
    "\n",
    "    def get_partitions(self):\n",
    "\n",
    "        names = []\n",
    "\n",
    "        for partition in self.partitions:\n",
    "            name = []\n",
    "            for i in range(len(partition)):\n",
    "                name.append([obj.get_name() for obj in partition[i]])\n",
    "\n",
    "            names.append(name)\n",
    "        return names\n",
    "    \n",
    "    def filter_by_dimension(self):\n",
    "        for i, partition in enumerate(self.partitions):\n",
    "            if not self.check_dimension(partition, self.boxes):\n",
    "                self.partition_weights[i] = 0\n",
    "\n",
    "        # print(self.partition_weights)\n",
    "        self.partition_weights = [weight/sum(self.partition_weights) for weight in self.partition_weights]\n",
    "        # print(self.partition_weights)\n",
    "    def query_item_prob(self, item):\n",
    "        prob = [0] * len(self.boxes)\n",
    "        for i, partition in enumerate(self.partitions):\n",
    "            for j, box in enumerate(partition):\n",
    "                for obj in box:\n",
    "                    if item == obj.get_name():\n",
    "                        prob[j] += self.partition_weights[i]\n",
    "        return prob\n",
    "\n",
    "\n",
    "    def get_objects(self):\n",
    "        return self.objects\n",
    "\n",
    "    def get_boxes(self):\n",
    "        return self.boxes\n",
    "\n",
    " \n",
    "# Driver Code \n",
    "if __name__ == '__main__':\n",
    "\n",
    "    box_namelist = [\"box1\", \"box7\"]\n",
    "    items_namelist = [\"yoga_mat\",\"laptop_with_box\",\"pillow\"]\n",
    "\n",
    "    box_list = []\n",
    "    items_list = []\n",
    "\n",
    "    for box in box_namelist:\n",
    "        box_list.append(Object(box, 'none', objects[box]['dimension']))\n",
    "\n",
    "    for item in items_namelist:\n",
    "        items_list.append(Object(item, 'none', objects[item]['dimension']))\n",
    "\n",
    "    model = InferenceModel(items_list, box_list)\n",
    "\n",
    "    model.filter_by_dimension()\n",
    "\n",
    "    print(model.query_item_prob(\"yoga_mat\"))\n"
   ]
  },
  {
   "cell_type": "code",
   "execution_count": 23,
   "metadata": {},
   "outputs": [
    {
     "data": {
      "text/plain": [
       "['yoga_mat', 'laptop_with_box', 'pillow']"
      ]
     },
     "execution_count": 23,
     "metadata": {},
     "output_type": "execute_result"
    }
   ],
   "source": [
    "items_list"
   ]
  },
  {
   "cell_type": "code",
   "execution_count": null,
   "metadata": {},
   "outputs": [],
   "source": []
  }
 ],
 "metadata": {
  "kernelspec": {
   "display_name": "base",
   "language": "python",
   "name": "python3"
  },
  "language_info": {
   "codemirror_mode": {
    "name": "ipython",
    "version": 3
   },
   "file_extension": ".py",
   "mimetype": "text/x-python",
   "name": "python",
   "nbconvert_exporter": "python",
   "pygments_lexer": "ipython3",
   "version": "3.11.3"
  }
 },
 "nbformat": 4,
 "nbformat_minor": 2
}
