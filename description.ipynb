{
 "cells": [
  {
   "cell_type": "code",
   "execution_count": 4,
   "metadata": {},
   "outputs": [],
   "source": [
    "import json\n",
    "import os"
   ]
  },
  {
   "cell_type": "code",
   "execution_count": 23,
   "metadata": {},
   "outputs": [
    {
     "data": {
      "text/plain": [
       "['witb_1.MOV',\n",
       " 'witb_10.mov',\n",
       " 'witb_1_a.mov',\n",
       " 'witb_2.MOV',\n",
       " 'witb_3_a.mov',\n",
       " 'witb_3a.MOV',\n",
       " 'witb_3b.MOV',\n",
       " 'witb_4.mov',\n",
       " 'witb_5.MOV',\n",
       " 'witb_6.MOV',\n",
       " 'witb_7.MOV',\n",
       " 'witb_8.mov',\n",
       " 'witb_9.mov']"
      ]
     },
     "execution_count": 23,
     "metadata": {},
     "output_type": "execute_result"
    }
   ],
   "source": [
    "videos_list = [i for i in os.listdir('.') if '.MOV' in i or '.mov' in i]\n",
    "videos_list.sort()\n",
    "videos_list"
   ]
  },
  {
   "cell_type": "code",
   "execution_count": 17,
   "metadata": {},
   "outputs": [],
   "source": [
    "# {“box1”: {“type”: “box”, “dimension”: [x,y,z]}}\n",
    "objects = {\n",
    "    'ode_textbook': {'type': 'object', 'dimension': [8.5, 10.25, 1.25]},\n",
    "    'perl_cookbook': {'type': 'object', 'dimension': [7, 9.25, 1.5]},\n",
    "    'box1': {'type': 'box', 'dimension': [18, 13.75, 5], 'description': 'prafull sharma'},\n",
    "    'box2': {'type': 'box', 'dimension': [8.75, 12, 5.5], 'description': 'daniel xu'},\n",
    "    'oat_creamer': {'type': 'object', 'dimension': [8, 3, 3]},\n",
    "    'box3': {'type': 'box', 'dimension': [17.5, 13.5, 7.5], 'description': 'lays snack'},\n",
    "    'pillow': {'type': 'object', 'dimension': [17, 17, 3]},\n",
    "    'straws' : {'type': 'object', 'dimension': [10, 10, 3.5]},\n",
    "    'box4': {'type': 'box', 'dimension': [9.5, 12.25, 7], 'description': 'pz'},\n",
    "    'box5': {'type': 'box', 'dimension': [8.75, 11.75, 5.25], 'description': 'lance ying, 10/7'},\n",
    "    'box6': {'type': 'box', 'dimension': [8, 12, 10.5], 'description': 'marie mize'},\n",
    "    'box7': {'type': 'box', 'dimension': [13.25, 9.25, 5.25], 'description': 'rice crispy treats'},\n",
    "    'hack_water_bottle': {'type': 'object', 'dimension': [10, 3, 3]},\n",
    "    'main_street_cafe_mug': {'type': 'object', 'dimension': [10, 3.5, 3.5]},\n",
    "    'light_blue_mug': {'type': 'object', 'dimension': [4.5, 4, 4]},\n",
    "    'yoga_mat': {'type': 'object', 'dimension': [24, 4.5, 4.5]},\n",
    "    'laptop_with_box': {'type': 'object', 'dimension': [14, 10.25, 4]},\n",
    "}"
   ]
  },
  {
   "cell_type": "code",
   "execution_count": 14,
   "metadata": {},
   "outputs": [],
   "source": [
    "witb_1 = {\n",
    "    'json': 'witb_1.json',\n",
    "    'possible_objects': ['laptop_with_box', 'yoga_mat', 'pillow'],\n",
    "    \"box1\" : [\"laptop_with_box\", 'yoga_mat'],\n",
    "    \"box2\": [\"pillow\"]\n",
    "}\n",
    "witb_2 = {\n",
    "    'json': 'witb_2.json',\n",
    "    'possible_objects': ['main_street_cafe_mug', 'light_blue_mug', 'straws', 'paper cup'],\n",
    "    \"box1\" : [\"main_street_cafe_mug\", 'light_blue_mug'],\n",
    "    \"box2\": ['straws', \"paper cup\"]\n",
    "}\n",
    "witb_3 = {\n",
    "    'json': 'witb_3.json',\n",
    "    'possible_objects': ['ode_textbook', 'perl_textbook', 'straws'],\n",
    "    \"box1\" : [\"ode_textbook\", 'perl_textbook'],\n",
    "    \"box2\": [\"straws\"]\n",
    "}\n",
    "\n",
    "witb_4 = {\n",
    "    'json': 'witb_4.json',\n",
    "    'possible_objects': ['plain_metal_bottle', 'stapler', 'straws', 'chips'],\n",
    "    \"box1\" : [\"plain_metal_bottle\", 'stapler'],\n",
    "    \"box2\": [\"straws\", \"chips\"]\n",
    "}\n",
    "\n",
    "witb_5 = {\n",
    "    'json': 'witb_5.json',\n",
    "    'possible_objects': ['uber_mug', 'stapler', 'straws', 'plain_metal_bottle'],\n",
    "    \"box1\" : [\"uber_mug\", 'stapler'],\n",
    "    \"box2\": [\"straws\", \"plain_metal_bottle\"]\n",
    "}\n",
    "\n",
    "witb_6 = {\n",
    "    'json': 'witb_6.json',\n",
    "    'possible_objects': ['chips', 'chips', 'straws'],\n",
    "    \"box1\" : [\"chips\", \"chips\"],\n",
    "    \"box2\": [\"straws\"]\n",
    "}\n",
    "\n",
    "witb_7 = {\n",
    "    'json': 'witb_7.json',\n",
    "    'possible_objects': ['laptop_charger', 'stapler', 'straws'],\n",
    "    \"box1\" : [\"laptop_charger\", \"stapler\"],\n",
    "    \"box2\": [\"straws\"]\n",
    "}\n",
    "\n",
    "witb_8 = {\n",
    "    'json': 'witb_8.json',\n",
    "    'possible_objects': ['chips', 'chips', 'folder'],\n",
    "    \"box1\" : [\"chips\", \"chips\"],\n",
    "    \"box2\": [\"folder\"]\n",
    "}\n",
    "\n",
    "witb_9 = {\n",
    "    'json': 'witb_9.json',\n",
    "    'possible_objects': ['chips', 'napkins'],\n",
    "    \"box1\" : [\"chips\"],\n",
    "    \"box2\": [\"napkins\"]\n",
    "}\n",
    "\n",
    "witb_10 = {\n",
    "    'json': 'witb_10.json',\n",
    "    'possible_objects': [\"uber_mug\", \"plain_metal_bottle\", \"straws\", \"pillow\"],\n",
    "    \"box1\" : [\"uber_mug\", \"plain_metal_bottle\"],\n",
    "    \"box2\": [\"straws\"], \n",
    "    \"box3\": [\"pillow\"]\n",
    "}"
   ]
  },
  {
   "cell_type": "code",
   "execution_count": 25,
   "metadata": {},
   "outputs": [],
   "source": [
    "witb_11 = {\n",
    "    'json': 'witb_11.json',\n",
    "    'possible_objects': [\"half_filled_plain_metal_bottle\", \"foam_erase\", \"keys\"],\n",
    "    \"box1\" : [\"half_filled_plain_metal_bottle\"],\n",
    "    \"box2\": [\"foam_eraser\", \"keys\"], \n",
    "}\n",
    "\n",
    "witb_12 = {\n",
    "    'json': 'witb_12.json',\n",
    "    'possible_objects': [\"half_filled_protein_shaker\", \"foam_eraser\", \"uber_mug\"],\n",
    "    \"box1\" : [\"half_filled_protein_shaker\"],\n",
    "    \"box2\": [\"foam_eraser\", \"uber_mug\"], \n",
    "}\n",
    "\n",
    "witb_13 = {\n",
    "    'json': 'witb_13.json',\n",
    "    'possible_objects': [\"perl_cookbook\", \"keys\", \"bike_lock\"],\n",
    "    \"box1\" : [\"perl_cookbook\"],\n",
    "    \"box2\": [\"keys\", \"bike_lock\"], \n",
    "}\n",
    "\n",
    "witb_14 = {\n",
    "    'json': 'witb_14.json',\n",
    "    'possible_objects': [\"perl_cookbook\", \"tv_remote\", \"foam_eraser\"],\n",
    "    \"box1\" : [\"perl_cookbook\"],\n",
    "    \"box2\": [\"tv_remote\", \"foam_eraser\"], \n",
    "}\n",
    "\n",
    "witb_15 = {\n",
    "    'json': 'witb_15.json',\n",
    "    'possible_objects': [\"perl_cookbook\", \"cardboard_box\", \"half_filled_protein_shaker\"],\n",
    "    \"box1\" : [\"cardboard_box\"],\n",
    "    \"box2\": [\"perl_cookbook\"],\n",
    "    \"box3\": [\"half_filled_protein_shaker\"],\n",
    "}\n",
    "\n",
    "witb_16 = {\n",
    "    'json': 'witb_16.json',\n",
    "    'possible_objects': [\"perl_cookbook\", \"laptop_with_box\", \"half_filled_protein_shaker\"],\n",
    "    \"box1\" : [\"laptop_with_box\"],\n",
    "    \"box2\": [\"perl_cookbook\"],\n",
    "    \"box3\": [\"half_filled_protein_shaker\"],\n",
    "}\n",
    "\n",
    "witb_17 = {\n",
    "    'json': 'witb_17.json',\n",
    "    'possible_objects': [\"laptop_with_box\", \"foam_eraser\", \"keys\", \"half_filled_protein_shaker\"],\n",
    "    \"box1\" : [\"laptop_with_box\"],\n",
    "    \"box2\": [\"foam_eraser\", \"keys\"],\n",
    "    \"box3\": [\"half_filled_protein_shaker\"],\n",
    "}\n",
    "\n",
    "witb_18 = {\n",
    "    'json': 'witb_18.json',\n",
    "    'possible_objects': [\"laptop_with_box\", \"perl_cookbook\", \"keys\", \"uber_mug\", \"mason_jar\", \"plain_metal_bottle\"],\n",
    "    \"box1\" : [\"laptop_with_box\", \"perl_cookbook\"],\n",
    "    \"box2\": [\"uber_mug\", \"keys\"],\n",
    "    \"box3\": [\"mason_jar\", \"plain_metal_bottle\"],\n",
    "}\n",
    "\n",
    "witb_19 = {\n",
    "    'json': 'witb_19.json',\n",
    "    'possible_objects': [\"yoga_mat\", \"perl_cookbook\", \"expo_maker\", \"mason_jar\", \"keys\", \"half_filled_protein_shaker\"],\n",
    "    \"box1\" : [\"yoga_mat\", \"perl_cookbook\"],\n",
    "    \"box2\": [\"expo_maker\", \"mason_jar\"],\n",
    "    \"box3\": [\"keys\", \"half_filled_protein_shaker\"],\n",
    "}\n",
    "\n",
    "witb_20 = {\n",
    "    'json': 'witb_20.json',\n",
    "    'possible_objects': [\"laptop_with_box\", \"yoga_mat\", \"perl_cookbook\", \"keys\", \"plain_metal_bottle\", \"aluminum_foil_ball\"],\n",
    "    \"box1\" : [\"laptop_with_box\"],\n",
    "    \"box2\": [\"yoga_mat\", \"perl_cookbook\"],\n",
    "    \"box3\": [\"aluminum_foil_ball\"],\n",
    "    \"box4\": [\"keys\", \"plain_metal_bottle\"],\n",
    "}"
   ]
  },
  {
   "cell_type": "code",
   "execution_count": 26,
   "metadata": {},
   "outputs": [],
   "source": [
    "objects_dicts = [witb_1, witb_2, witb_3, witb_4, witb_5, witb_6, witb_7, witb_8, witb_9, witb_10]\n",
    "\n",
    "objects_dicts = [witb_11, witb_12, witb_13, witb_14, witb_15, witb_16, witb_17, witb_18, witb_19, witb_20]"
   ]
  },
  {
   "cell_type": "code",
   "execution_count": 27,
   "metadata": {},
   "outputs": [],
   "source": [
    "for object_dict in objects_dicts:\n",
    "    with open(object_dict['json'], 'w') as json_file:\n",
    "        json.dump(object_dict, json_file, indent=4)\n"
   ]
  },
  {
   "cell_type": "markdown",
   "metadata": {},
   "source": [
    "## Classication"
   ]
  },
  {
   "cell_type": "code",
   "execution_count": 4,
   "metadata": {},
   "outputs": [
    {
     "ename": "ImportError",
     "evalue": "cannot import name 'Box' from 'whats_in_the_box' (/Users/dxu/Dropbox (MIT)/Activities/UROP/whats-in-the-box/whats_in_the_box.py)",
     "output_type": "error",
     "traceback": [
      "\u001b[0;31m---------------------------------------------------------------------------\u001b[0m",
      "\u001b[0;31mImportError\u001b[0m                               Traceback (most recent call last)",
      "\u001b[1;32m/Users/dxu/Dropbox (MIT)/Activities/UROP/whats-in-the-box/description.ipynb Cell 9\u001b[0m line \u001b[0;36m1\n\u001b[0;32m----> <a href='vscode-notebook-cell:/Users/dxu/Dropbox%20%28MIT%29/Activities/UROP/whats-in-the-box/description.ipynb#X13sZmlsZQ%3D%3D?line=0'>1</a>\u001b[0m \u001b[39mfrom\u001b[39;00m \u001b[39mwhats_in_the_box\u001b[39;00m \u001b[39mimport\u001b[39;00m Boxes, Box\n",
      "\u001b[0;31mImportError\u001b[0m: cannot import name 'Box' from 'whats_in_the_box' (/Users/dxu/Dropbox (MIT)/Activities/UROP/whats-in-the-box/whats_in_the_box.py)"
     ]
    }
   ],
   "source": [
    "from whats_in_the_box import Boxes, Box"
   ]
  },
  {
   "cell_type": "code",
   "execution_count": null,
   "metadata": {},
   "outputs": [],
   "source": [
    "box_"
   ]
  }
 ],
 "metadata": {
  "kernelspec": {
   "display_name": ".venv",
   "language": "python",
   "name": "python3"
  },
  "language_info": {
   "codemirror_mode": {
    "name": "ipython",
    "version": 3
   },
   "file_extension": ".py",
   "mimetype": "text/x-python",
   "name": "python",
   "nbconvert_exporter": "python",
   "pygments_lexer": "ipython3",
   "version": "3.9.6"
  }
 },
 "nbformat": 4,
 "nbformat_minor": 2
}
